{
 "cells": [
  {
   "cell_type": "code",
   "execution_count": 1,
   "id": "b04d218b",
   "metadata": {},
   "outputs": [],
   "source": [
    "import urllib.request\n",
    "import bz2\n",
    "import os\n",
    "\n",
    "url = \"http://dlib.net/files/shape_predictor_68_face_landmarks.dat.bz2\"\n",
    "response = urllib.request.urlopen(url)\n",
    "compressed_data = response.read()\n",
    "\n",
    "data = bz2.decompress(compressed_data)\n",
    "\n",
    "save_path = \"shape_predictor_68_face_landmarks.dat\"\n",
    "with open(save_path, 'wb') as f:\n",
    "    f.write(data)\n",
    "\n",
    "datFile = save_path"
   ]
  },
  {
   "cell_type": "code",
   "execution_count": 4,
   "id": "72dd041e",
   "metadata": {},
   "outputs": [],
   "source": [
    "import cv2\n",
    "import dlib\n",
    "import numpy as np\n",
    "\n",
    "detector = dlib.get_frontal_face_detector()\n",
    "\n",
    "predictor = dlib.shape_predictor(datFile)\n",
    "\n",
    "image1 = cv2.imread(\"face1.jpg\")\n",
    "image2 = cv2.imread(\"face2.jpg\")\n",
    "\n",
    "gray1 = cv2.cvtColor(image1, cv2.COLOR_BGR2GRAY)\n",
    "gray2 = cv2.cvtColor(image2, cv2.COLOR_BGR2GRAY)\n",
    "\n",
    "faces1 = detector(gray1)\n",
    "faces2 = detector(gray2)\n",
    "\n",
    "landmarks1 = predictor(gray1, faces1[0])\n",
    "landmarks2 = predictor(gray2, faces2[0])\n",
    "\n",
    "face1_copy = image1.copy()\n",
    "face2_copy = image2.copy()\n",
    "\n",
    "points1 = []\n",
    "points2 = []\n",
    "\n",
    "for n in range(68):\n",
    "    x1, y1 = landmarks1.part(n).x, landmarks1.part(n).y\n",
    "    x2, y2 = landmarks2.part(n).x, landmarks2.part(n).y\n",
    "\n",
    "    points1.append((x1, y1))\n",
    "    points2.append((x2, y2))\n",
    "\n",
    "points1 = np.array(points1, np.int32)\n",
    "points2 = np.array(points2, np.int32)\n",
    "rect1 = cv2.boundingRect(points1)\n",
    "rect2 = cv2.boundingRect(points2)\n",
    "\n",
    "x_offset = rect2[0] - rect1[0]\n",
    "y_offset = rect2[1] - rect1[1]\n",
    "\n",
    "image1_face = image1[rect1[1]:rect1[1] + rect1[3], rect1[0]:rect1[0] + rect1[2]]\n",
    "image2_face = image2[rect2[1]:rect2[1] + rect2[3], rect2[0]:rect2[0] + rect2[2]]\n",
    "\n",
    "result = cv2.seamlessClone(image2_face, image1, mask=np.ones_like(image1_face, dtype=np.uint8) * 255,\n",
    "                            p=(rect1[0] + x_offset, rect1[1] + y_offset), flags=cv2.NORMAL_CLONE)\n",
    "\n",
    "cv2.imshow(\"Face Swapped\", result)\n",
    "cv2.waitKey(0)\n",
    "cv2.destroyAllWindows()"
   ]
  },
  {
   "cell_type": "code",
   "execution_count": null,
   "id": "1eaadf7e",
   "metadata": {},
   "outputs": [],
   "source": []
  }
 ],
 "metadata": {
  "kernelspec": {
   "display_name": "Python 3 (ipykernel)",
   "language": "python",
   "name": "python3"
  },
  "language_info": {
   "codemirror_mode": {
    "name": "ipython",
    "version": 3
   },
   "file_extension": ".py",
   "mimetype": "text/x-python",
   "name": "python",
   "nbconvert_exporter": "python",
   "pygments_lexer": "ipython3",
   "version": "3.11.5"
  }
 },
 "nbformat": 4,
 "nbformat_minor": 5
}
